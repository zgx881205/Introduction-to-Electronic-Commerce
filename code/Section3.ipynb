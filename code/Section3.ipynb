{
 "cells": [
  {
   "cell_type": "code",
   "execution_count": 11,
   "metadata": {
    "collapsed": false
   },
   "outputs": [
    {
     "name": "stdout",
     "output_type": "stream",
     "text": [
      "{'weight': '140', 'age': '21', 'height': '180', 'name': 'guodong', 'sex': 'M'}\n"
     ]
    }
   ],
   "source": [
    "dict = {\n",
    "'name' : 'guodong',\n",
    "'age' : '21',\n",
    "'sex' : 'M',\n",
    "'weight' : '140',\n",
    "'height' : '180'}\n",
    "print (dict)"
   ]
  },
  {
   "cell_type": "code",
   "execution_count": 14,
   "metadata": {
    "collapsed": false
   },
   "outputs": [
    {
     "name": "stdout",
     "output_type": "stream",
     "text": [
      "guodong\n"
     ]
    }
   ],
   "source": [
    "print (dict['name'])"
   ]
  },
  {
   "cell_type": "code",
   "execution_count": 15,
   "metadata": {
    "collapsed": false
   },
   "outputs": [
    {
     "name": "stdout",
     "output_type": "stream",
     "text": [
      "{'weight': '140', 'height': '180', 'age': '21', 'id': '05', 'sex': 'M', 'name': 'guodong'}\n"
     ]
    }
   ],
   "source": [
    "dict['id'] = '05'\n",
    "print (dict)"
   ]
  },
  {
   "cell_type": "code",
   "execution_count": 17,
   "metadata": {
    "collapsed": false
   },
   "outputs": [
    {
     "name": "stdout",
     "output_type": "stream",
     "text": [
      "{'weight': '140', 'height': '180', 'age': '21', 'sex': 'M', 'name': 'guodong'}\n"
     ]
    }
   ],
   "source": [
    "dict.pop('id')\n",
    "print (dict)"
   ]
  },
  {
   "cell_type": "code",
   "execution_count": 18,
   "metadata": {
    "collapsed": false
   },
   "outputs": [
    {
     "name": "stdout",
     "output_type": "stream",
     "text": [
      "5\n"
     ]
    }
   ],
   "source": [
    "print(len(dict))"
   ]
  },
  {
   "cell_type": "code",
   "execution_count": 25,
   "metadata": {
    "collapsed": false
   },
   "outputs": [
    {
     "name": "stdout",
     "output_type": "stream",
     "text": [
      "key:weight value:140\n",
      "key:height value:180\n",
      "key:age value:21\n",
      "key:sex value:M\n",
      "key:name value:guodong\n"
     ]
    }
   ],
   "source": [
    "for key,value in dict.items():\n",
    "    print (\"key:\" + key,\"value:\" + value)"
   ]
  },
  {
   "cell_type": "code",
   "execution_count": 28,
   "metadata": {
    "collapsed": false
   },
   "outputs": [
    {
     "name": "stdout",
     "output_type": "stream",
     "text": [
      "red\n",
      "green\n",
      "blue\n",
      "black\n",
      "white\n",
      "yellow\n",
      "['red', 'green', 'blue']\n"
     ]
    }
   ],
   "source": [
    "list = ['red', 'green', 'blue', 'yellow', 'white', 'black']\n",
    "print( list[0] )\n",
    "print( list[1] )\n",
    "print( list[2] )\n",
    "print( list[-1] )\n",
    "print( list[-2] )\n",
    "print( list[-3] )\n",
    "print( list[0:3] )"
   ]
  },
  {
   "cell_type": "code",
   "execution_count": 30,
   "metadata": {
    "collapsed": false
   },
   "outputs": [
    {
     "name": "stdout",
     "output_type": "stream",
     "text": [
      "['green', 'blue', 'yellow', 'white', 'black']\n"
     ]
    }
   ],
   "source": [
    "list = ['red', 'green', 'blue', 'yellow', 'white', 'black']\n",
    "del list[0]\n",
    "print(list)"
   ]
  },
  {
   "cell_type": "code",
   "execution_count": 30,
   "metadata": {
    "collapsed": false
   },
   "outputs": [
    {
     "name": "stdout",
     "output_type": "stream",
     "text": [
      "['green', 'blue', 'yellow', 'white', 'black']\n"
     ]
    }
   ],
   "source": [
    "list = ['red', 'green', 'blue', 'yellow', 'white', 'black']\n",
    "del list[0]\n",
    "print(list)"
   ]
  },
  {
   "cell_type": "code",
   "execution_count": 33,
   "metadata": {
    "collapsed": false
   },
   "outputs": [
    {
     "name": "stdout",
     "output_type": "stream",
     "text": [
      "第三个元素为 :  Amazon\n",
      "更新后的第三个元素为 :  Tik Tok\n",
      "添加元素后的列表 :  ['Google', 'Runoob', 'Tik Tok', 'Baidu']\n"
     ]
    }
   ],
   "source": [
    "list = ['Google', 'Runoob', 'Amazon']\n",
    "print (\"第三个元素为 : \", list[2])\n",
    "list[2] = 'Tik Tok'\n",
    "print (\"更新后的第三个元素为 : \", list[2])\n",
    "list.append('Baidu')\n",
    "print (\"添加元素后的列表 : \", list)"
   ]
  },
  {
   "cell_type": "code",
   "execution_count": 5,
   "metadata": {
    "collapsed": false
   },
   "outputs": [
    {
     "name": "stdout",
     "output_type": "stream",
     "text": [
      "   data1  data2 key\n",
      "0      1      4   a\n",
      "1      2      5   b\n",
      "2      3      6   c\n"
     ]
    }
   ],
   "source": [
    "df=pd.DataFrame({'key':['a','b','c'],'data1':[1,2,3],'data2':[4,5,6]})  \n",
    "print(df)"
   ]
  },
  {
   "cell_type": "code",
   "execution_count": 6,
   "metadata": {
    "collapsed": false
   },
   "outputs": [
    {
     "name": "stdout",
     "output_type": "stream",
     "text": [
      "0\n",
      "data1    1\n",
      "data2    4\n",
      "key      a\n",
      "Name: 0, dtype: object\n",
      "1\n",
      "data1    2\n",
      "data2    5\n",
      "key      b\n",
      "Name: 1, dtype: object\n",
      "2\n",
      "data1    3\n",
      "data2    6\n",
      "key      c\n",
      "Name: 2, dtype: object\n"
     ]
    }
   ],
   "source": [
    "for idx,item in df.iterrows():\n",
    "    print(idx)\n",
    "    print(item)"
   ]
  },
  {
   "cell_type": "code",
   "execution_count": 9,
   "metadata": {
    "collapsed": false
   },
   "outputs": [
    {
     "name": "stdout",
     "output_type": "stream",
     "text": [
      "data1\n",
      "0    1\n",
      "1    2\n",
      "2    3\n",
      "Name: data1, dtype: int64\n",
      "data2\n",
      "0    4\n",
      "1    5\n",
      "2    6\n",
      "Name: data2, dtype: int64\n",
      "key\n",
      "0    a\n",
      "1    b\n",
      "2    c\n",
      "Name: key, dtype: object\n"
     ]
    }
   ],
   "source": [
    "for idx,item in df.iteritems():\n",
    "    print(idx)\n",
    "    print(item)"
   ]
  },
  {
   "cell_type": "code",
   "execution_count": 16,
   "metadata": {
    "collapsed": false
   },
   "outputs": [
    {
     "data": {
      "image/png": "[encoded data removed]",
      "text/plain": [
       "<matplotlib.figure.Figure at 0x2021e1b7e80>"
      ]
     },
     "metadata": {},
     "output_type": "display_data"
    }
   ],
   "source": [
    "import numpy as np\n",
    "import matplotlib.mlab as mlab\n",
    "import matplotlib.pyplot as plt\n",
    "\n",
    "def demo():\n",
    "    mu, sigma , num_bins = 0, 1, 50\n",
    "    x = mu + sigma * np.random.randn(1000000)\n",
    "    # 正态分布的数据\n",
    "    n, bins, patches = plt.hist(x, num_bins, normed=True, facecolor = 'blue', alpha = 0.5)\n",
    "    # 拟合曲线\n",
    "    y = mlab.normpdf(bins, mu, sigma)\n",
    "    plt.plot(bins, y, 'r--')\n",
    "    plt.xlabel('Expectation', fontproperties='Times New Roman')\n",
    "    plt.ylabel('Probability', fontproperties='Times New Roman')\n",
    "    plt.title('Histogram of Normal Distribution: $\\mu = 0$, $\\sigma=1$', fontproperties='Times New Roman')\n",
    "    plt.subplots_adjust(left = 0.15)\n",
    "    plt.savefig(\"./Normal.png\", dpi=400)\n",
    "    plt.show()\n",
    "demo()\n"
   ]
  },
  {
   "cell_type": "code",
   "execution_count": 18,
   "metadata": {
    "collapsed": false
   },
   "outputs": [
    {
     "data": {
      "image/png": "[encoded data removed]",
      "text/plain": [
       "<matplotlib.figure.Figure at 0x202056c77b8>"
      ]
     },
     "metadata": {},
     "output_type": "display_data"
    }
   ],
   "source": [
    "import math\n",
    "import pylab as pl\n",
    "import numpy as np\n",
    "def gd(x,m,s):\n",
    "    left=1/(math.sqrt(2*math.pi)*s)\n",
    "    right=math.exp(-math.pow(x-m,2)/(2*math.pow(s,2)))\n",
    "    return left*right\n",
    "def showfigure():\n",
    "    x=np.arange(-4,5,0.1)\n",
    "    y=[]\n",
    "    for i in x:\n",
    "        y.append(gd(i,0,1))\n",
    "    pl.plot(x,y)  \n",
    "    pl.xlim(-4.0,5.0)\n",
    "    pl.ylim(-0.2,0.5)\n",
    "    ax = pl.gca()\n",
    "    ax.spines['right'].set_color('none')\n",
    "    ax.spines['top'].set_color('none')\n",
    "    ax.xaxis.set_ticks_position('bottom')\n",
    "    ax.spines['bottom'].set_position(('data',0))\n",
    "    ax.yaxis.set_ticks_position('left')\n",
    "    ax.spines['left'].set_position(('data',0))\n",
    "    #add param\n",
    "    label_f1 = \"$\\mu=0,\\ \\sigma=1$\"\n",
    "    pl.text(2.5,0.3,label_f1,fontsize=15,verticalalignment=\"top\",\n",
    "            horizontalalignment=\"left\")\n",
    "    label_f2 = r\"$f(x)=\\frac{1}{\\sqrt{2\\pi}\\sigma}exp(-\\frac{(x-\\mu)^2}{2\\sigma^2})$\"\n",
    "    pl.text(1.5,0.4,label_f2,fontsize=15,verticalalignment=\"top\"\n",
    "            ,horizontalalignment=\"left\")\n",
    "    plt.savefig(\"./Normal2.png\", dpi=400)\n",
    "    pl.show()\n",
    "showfigure()"
   ]
  },
  {
   "cell_type": "code",
   "execution_count": 21,
   "metadata": {
    "collapsed": false
   },
   "outputs": [
    {
     "name": "stdout",
     "output_type": "stream",
     "text": [
      "Income: [[ 5000.]\n",
      " [58000.]\n",
      " [16000.]]\n",
      "After Min-Max Normalization: [[0.        ]\n",
      " [1.        ]\n",
      " [0.20754717]]\n"
     ]
    }
   ],
   "source": [
    "#假设属性income的最小值和最大值分别是5000元和58000元。利用Min-Max规范化的方法将属性的值映射到0至1的范围内，那么属性income的16000元将被转化为多少？\n",
    "# coding:utf-8\n",
    "from sklearn import preprocessing\n",
    "import numpy as np\n",
    "x = np.array([[5000.],[58000.],[16000.]])\n",
    "min_max_scaler = preprocessing.MinMaxScaler()\n",
    "minmax_x = min_max_scaler.fit_transform(x)\n",
    "print ('Income:',x)\n",
    "print('After Min-Max Normalization:',minmax_x)"
   ]
  },
  {
   "cell_type": "code",
   "execution_count": 23,
   "metadata": {
    "collapsed": false
   },
   "outputs": [
    {
     "name": "stdout",
     "output_type": "stream",
     "text": [
      "X: [[ 1. -1.  2.]\n",
      " [ 2.  0.  0.]\n",
      " [ 0.  1. -1.]]\n",
      "After Z-score Normalization: [[ 0.         -1.22474487  1.33630621]\n",
      " [ 1.22474487  0.         -0.26726124]\n",
      " [-1.22474487  1.22474487 -1.06904497]]\n",
      "处理后数据的均值和方差: [0. 0. 0.] [1. 1. 1.]\n"
     ]
    }
   ],
   "source": [
    "from sklearn import preprocessing\n",
    "import numpy as np\n",
    "X = np.array([[ 1., -1.,  2.], [ 2.,  0.,  0.],[ 0.,  1., -1.]])\n",
    "X_scaled = preprocessing.scale(X)\n",
    "print('X:',X)\n",
    "print('After Z-score Normalization:',X_scaled)\n",
    "print('处理后数据的均值和方差:',X_scaled.mean(axis=0),X_scaled.std(axis=0))"
   ]
  },
  {
   "cell_type": "code",
   "execution_count": null,
   "metadata": {
    "collapsed": true
   },
   "outputs": [],
   "source": [
    "import numpy as np\n",
    "import pandas as pd\n",
    "import re,os,jieba\n",
    "import csv\n",
    "\"\"\"第一步：用正则表达式清洗数据，并去除停用词\"\"\"\n",
    "df = pd.read_csv(\"item_itemid.csv\")\n",
    "df = df[['ID','商品']].dropna()#删除缺失数据\n",
    "def stopwordslist():\n",
    "    stopwords = [line.strip() for line in open('./cn_stopwords.txt',encoding='UTF-8').readlines()]\n",
    "    return stopwords\n",
    "def seg_depart(sentence):\n",
    "    sentence_depart = jieba.cut(sentence.strip())\n",
    "    stopwords = stopwordslist()\n",
    "    outstr = ''\n",
    "    for word in sentence_depart:\n",
    "        if word not in stopwords:\n",
    "            outstr += word\n",
    "            outstr += \"|\"      \n",
    "    return outstr.strip('|')\n",
    "#docs_text = df['商品'] \n",
    "def mian():\n",
    "    outfilename = \"fenci results.csv\"\n",
    "    f = open(outfilename, 'w',  newline='',encoding='utf-8-sig')\n",
    "    csv_writer = csv.writer(f)\n",
    "    csv_writer.writerow(['ID','Item','Item_fenci']) \n",
    "    for IDX,Values in df.iterrows():\n",
    "        ID=Values['ID']\n",
    "        print('ID:',ID)\n",
    "        Item=Values['商品']\n",
    "        print('Item:',Item)\n",
    "        fenci = re.sub('片片','片',str(Item))\n",
    "        fenci = re.sub(r'[^\\u4e00-\\u9fa5]+','',fenci)\n",
    "        fenci_seg = seg_depart(fenci.strip())\n",
    "        print('分词后结果:',fenci_seg)\n",
    "     \n",
    "        csv_writer.writerow([str(ID),str(Item),str(fenci_seg)])    \n",
    "    f.close()\n",
    "    print(\"删除停用词,并分词成功！\")  \n",
    "mian()"
   ]
  }
 ],
 "metadata": {
  "anaconda-cloud": {},
  "kernelspec": {
   "display_name": "Python [conda root]",
   "language": "python",
   "name": "conda-root-py"
  },
  "language_info": {
   "codemirror_mode": {
    "name": "ipython",
    "version": 3
   },
   "file_extension": ".py",
   "mimetype": "text/x-python",
   "name": "python",
   "nbconvert_exporter": "python",
   "pygments_lexer": "ipython3",
   "version": "3.5.6"
  }
 },
 "nbformat": 4,
 "nbformat_minor": 1
}
